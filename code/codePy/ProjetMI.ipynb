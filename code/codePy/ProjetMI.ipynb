{
 "cells": [
  {
   "cell_type": "code",
   "execution_count": 2,
   "id": "5a313aad-1684-4783-94d5-634af191989a",
   "metadata": {},
   "outputs": [
    {
     "ename": "ModuleNotFoundError",
     "evalue": "No module named 'matplotlib'",
     "output_type": "error",
     "traceback": [
      "\u001b[1;31m---------------------------------------------------------------------------\u001b[0m",
      "\u001b[1;31mModuleNotFoundError\u001b[0m                       Traceback (most recent call last)",
      "\u001b[1;32mc:\\Users\\youliana\\Documents\\projetMI\\Projet-Math-Info-2\\code\\codePy\\ProjetMI.ipynb Cell 1\u001b[0m in \u001b[0;36m<cell line: 2>\u001b[1;34m()\u001b[0m\n\u001b[0;32m      <a href='vscode-notebook-cell:/c%3A/Users/youliana/Documents/projetMI/Projet-Math-Info-2/code/codePy/ProjetMI.ipynb#W0sZmlsZQ%3D%3D?line=0'>1</a>\u001b[0m \u001b[39m#importer les modules:\u001b[39;00m\n\u001b[1;32m----> <a href='vscode-notebook-cell:/c%3A/Users/youliana/Documents/projetMI/Projet-Math-Info-2/code/codePy/ProjetMI.ipynb#W0sZmlsZQ%3D%3D?line=1'>2</a>\u001b[0m \u001b[39mimport\u001b[39;00m \u001b[39mmatplotlib\u001b[39;00m\u001b[39m.\u001b[39;00m\u001b[39mpyplot\u001b[39;00m \u001b[39mas\u001b[39;00m \u001b[39mplt\u001b[39;00m\n\u001b[0;32m      <a href='vscode-notebook-cell:/c%3A/Users/youliana/Documents/projetMI/Projet-Math-Info-2/code/codePy/ProjetMI.ipynb#W0sZmlsZQ%3D%3D?line=2'>3</a>\u001b[0m \u001b[39mimport\u001b[39;00m \u001b[39mnumpy\u001b[39;00m \u001b[39mas\u001b[39;00m \u001b[39mnp\u001b[39;00m\n\u001b[0;32m      <a href='vscode-notebook-cell:/c%3A/Users/youliana/Documents/projetMI/Projet-Math-Info-2/code/codePy/ProjetMI.ipynb#W0sZmlsZQ%3D%3D?line=3'>4</a>\u001b[0m \u001b[39mimport\u001b[39;00m \u001b[39mmath\u001b[39;00m\n",
      "\u001b[1;31mModuleNotFoundError\u001b[0m: No module named 'matplotlib'"
     ]
    }
   ],
   "source": [
    "#importer les modules:\n",
    "import matplotlib.pyplot as plt\n",
    "import numpy as np\n",
    "import math\n",
    "from math import *\n",
    "import time\n",
    "import random"
   ]
  },
  {
   "cell_type": "code",
   "execution_count": 3,
   "id": "4194dce7-756f-4560-8d20-9fa628a5fab3",
   "metadata": {},
   "outputs": [
    {
     "ename": "SyntaxError",
     "evalue": "invalid syntax (3046798085.py, line 9)",
     "output_type": "error",
     "traceback": [
      "\u001b[1;36m  Input \u001b[1;32mIn [3]\u001b[1;36m\u001b[0m\n\u001b[1;33m    A[n-1][n-1] = -2 / h**2u\u001b[0m\n\u001b[1;37m                           ^\u001b[0m\n\u001b[1;31mSyntaxError\u001b[0m\u001b[1;31m:\u001b[0m invalid syntax\n"
     ]
    }
   ],
   "source": [
    "n = 5      #nombre de points de dicretisation\n",
    "h = 1/n+1    #le pas d'espace uniforme\n",
    "#initialiser \n",
    "A = [[0 for i in range(n)] for j in range(n)]\n",
    "for i in range(1,n):\n",
    "        A[i-1][i] = 1 / h**2\n",
    "        A[i-1][i-1] = -2 / h**2\n",
    "        A[i][i-1] = 1 / h**2\n",
    "        A[n-1][n-1] = -2 / h**2u "
   ]
  },
  {
   "cell_type": "markdown",
   "id": "f0fb806c-5397-4e93-8da7-6edd6d23a874",
   "metadata": {},
   "source": [
    "Fonction à resoudre s(x) = 4πsin(2πx)"
   ]
  },
  {
   "cell_type": "code",
   "execution_count": 4,
   "id": "9bc931b3-4587-4f90-a7b4-565335b90155",
   "metadata": {},
   "outputs": [],
   "source": [
    "#La fonction s en entrée xi et retourne \"s(xi) = 4π²sin(2πxi)\" sachant que xi = H * i\n",
    "def s(x : float) -> float :\n",
    "    return 4 * pi * pi * sin(2*π*x)"
   ]
  },
  {
   "cell_type": "markdown",
   "id": "ae59a681-d54c-48a6-8945-e485ada304a2",
   "metadata": {},
   "source": [
    "La fonction maillage ( Créer un tableau pour stocker les points du maillage Créer un tableau pour stocker les points du maillage)"
   ]
  },
  {
   "cell_type": "code",
   "execution_count": 5,
   "id": "39153a70-4703-4f9c-8a65-48243a621cce",
   "metadata": {},
   "outputs": [],
   "source": [
    "def maillage(x : list[float] , n : int) :\n",
    "    for i in range(n+2):\n",
    "         x[i] = i * h"
   ]
  },
  {
   "cell_type": "markdown",
   "id": "4c373423-cec1-4e0c-861e-0afa93dd5d69",
   "metadata": {},
   "source": [
    "La fonction qui retourne le vecteur b"
   ]
  },
  {
   "cell_type": "code",
   "execution_count": 6,
   "id": "12e2fed2-077a-48b1-80d7-583c8340d933",
   "metadata": {},
   "outputs": [],
   "source": [
    "def createB(B : list[float], x : list[float], ALPHA : float , BETA : float) :\n",
    "        B [0] = (s(x[0]) + (ALPHA /h**2))\n",
    "        B[n-1] = (s(x[n-1]) + (BETA /h**2 ))\n",
    "        for i in range(1,n-1):\n",
    "                B[i] = s(x[i])"
   ]
  },
  {
   "cell_type": "markdown",
   "id": "6b2125b4-df87-42ae-a8ac-31f43dfae1a4",
   "metadata": {},
   "source": [
    "On a écrit une fonction qui fait la décomposition d'une matrice carrée comme produit d'une matrice triangulaire inférieure L \n",
    "par une matrice triangulaire supérieure U."
   ]
  },
  {
   "cell_type": "code",
   "execution_count": 7,
   "id": "4053874d-9f60-4361-a600-a73b2dc2c9a5",
   "metadata": {},
   "outputs": [],
   "source": [
    "def LU_decomposition(A:list[list[float]],n : int, h : int):\n",
    "    L = [[0 for i in range(n)]for j in range(n)]\n",
    "    U = [[0 for i in range(n)]for j in range(n)]\n",
    "    for j in range(n):\n",
    "        L[j][j] = 1\n",
    "        for i in range(j+1):\n",
    "            s1 = sum(U[k][j] * L[i][k] for k in range(i))\n",
    "            U[i][j] = A[i][j] - s1\n",
    "        for i in range(j, n):\n",
    "            s2 = sum(U[k][j] * L[i][k] for k in range(j))\n",
    "            L[i][j] = (A[i][j] - s2) / U[j][j]\n",
    "\n",
    "    return L, U\n"
   ]
  },
  {
   "cell_type": "markdown",
   "id": "6389498a-80dc-401f-be20-d1ee173b56b2",
   "metadata": {},
   "source": [
    "On a écrit une fonction qui fait la décomposition LU d'une matrice tridiagonale "
   ]
  },
  {
   "cell_type": "code",
   "execution_count": 8,
   "id": "68570772-db6a-496e-ae22-32dd85aefdb9",
   "metadata": {},
   "outputs": [],
   "source": [
    "def LU_t_decomposition(A : list[list[float]], n : int, h : int ) :\n",
    "    L = [[0 for i in range(n)] for j in range(n)]\n",
    "    U = [[0 for i in range(n)] for j in range(n)]\n",
    "    \n",
    "    U[0][0] = A[0][0]\n",
    "    for i in range(1,n):\n",
    "        L[i][i-1]= A[i][i-1] / U[i-1] [i-1]\n",
    "        U[i][i] = A[i][i] - L[i][i-1] * A[i-1][i]\n",
    "    \n",
    "    for i in range(n):\n",
    "        L[i][i] = 1\n",
    "    \n",
    "    for i in range(1,n):\n",
    "        U[i-1][i] = A[i-1][i]\n",
    "    \n",
    "    return L,U\n"
   ]
  },
  {
   "cell_type": "markdown",
   "id": "77a85590-9949-41fc-9171-93b989c1ff2a",
   "metadata": {},
   "source": [
    "Une fonction qui affiche la matrice"
   ]
  },
  {
   "cell_type": "code",
   "execution_count": 9,
   "id": "58b34e93-d2da-419c-8af6-fe3ab20a7446",
   "metadata": {},
   "outputs": [],
   "source": [
    "def afficher_Mat(a):\n",
    "    for i in a:\n",
    "        print(i) "
   ]
  },
  {
   "cell_type": "code",
   "execution_count": 10,
   "id": "15fab025-f339-4991-9844-dfecc3bd928f",
   "metadata": {},
   "outputs": [
    {
     "ename": "NameError",
     "evalue": "name 'A' is not defined",
     "output_type": "error",
     "traceback": [
      "\u001b[1;31m---------------------------------------------------------------------------\u001b[0m",
      "\u001b[1;31mNameError\u001b[0m                                 Traceback (most recent call last)",
      "\u001b[1;32mc:\\Users\\youliana\\Documents\\projetMI\\Projet-Math-Info-2\\code\\codePy\\ProjetMI.ipynb Cell 15\u001b[0m in \u001b[0;36m<cell line: 1>\u001b[1;34m()\u001b[0m\n\u001b[1;32m----> <a href='vscode-notebook-cell:/c%3A/Users/youliana/Documents/projetMI/Projet-Math-Info-2/code/codePy/ProjetMI.ipynb#X20sZmlsZQ%3D%3D?line=0'>1</a>\u001b[0m L , U \u001b[39m=\u001b[39m LU_t_decomposition(A,n,h)\n\u001b[0;32m      <a href='vscode-notebook-cell:/c%3A/Users/youliana/Documents/projetMI/Projet-Math-Info-2/code/codePy/ProjetMI.ipynb#X20sZmlsZQ%3D%3D?line=1'>2</a>\u001b[0m \u001b[39mprint\u001b[39m(\u001b[39m\"\u001b[39m\u001b[39mMatrice A:\u001b[39m\u001b[39m\"\u001b[39m)\n\u001b[0;32m      <a href='vscode-notebook-cell:/c%3A/Users/youliana/Documents/projetMI/Projet-Math-Info-2/code/codePy/ProjetMI.ipynb#X20sZmlsZQ%3D%3D?line=2'>3</a>\u001b[0m afficher_Mat(A)\n",
      "\u001b[1;31mNameError\u001b[0m: name 'A' is not defined"
     ]
    }
   ],
   "source": [
    "L , U = LU_t_decomposition(A,n,h)\n",
    "print(\"Matrice A:\")\n",
    "afficher_Mat(A)\n",
    "print(\"Matrice L:\")\n",
    "afficher_Mat(L)\n",
    "print(\"Matrice U:\")\n",
    "afficher_Mat(U)"
   ]
  },
  {
   "cell_type": "markdown",
   "id": "316e5da8-5851-4fb3-8801-ad0e9b68dec3",
   "metadata": {},
   "source": [
    "Une fonction qui fait la résolution du système"
   ]
  },
  {
   "cell_type": "code",
   "execution_count": null,
   "id": "5e7cbdbb-9cd1-4617-9734-e563678343a4",
   "metadata": {},
   "outputs": [
    {
     "ename": "",
     "evalue": "",
     "output_type": "error",
     "traceback": [
      "\u001b[1;31mFailed to start the Kernel. \n",
      "\u001b[1;31mSyntaxError: invalid syntax. \n",
      "\u001b[1;31mView Jupyter <a href='command:jupyter.viewOutput'>log</a> for further details."
     ]
    }
   ],
   "source": [
    "def Sol_y(L : list[list[float]] , b : list[float], n:int) -> list[float] :\n",
    "    \n",
    "    y = [0 for i in range (n)]\n",
    "    y[0] = b[0]/L[0][0]\n",
    "    \n",
    "    for i in range (1,n):\n",
    "        y[i] = (b[i] - L[i][i-1] * y[i-1])/L[i][i]\n",
    "    return y\n",
    "\n",
    "def Sol_u(U : list[list[float]] , y : list[float] , n : int) -> list[float]:\n",
    "    \n",
    "    u = [0 for i in range(n)]\n",
    "    u[n-1] = y[n-1] / U[n-1][n-1] \n",
    "    \n",
    "    for i in range(n-2,-1,-1):\n",
    "        u[i] = (y[i] - U[i][i+1] * u[i+1]) / U[i][i]\n",
    "    return u\n"
   ]
  },
  {
   "cell_type": "code",
   "execution_count": null,
   "id": "ec8ac158-001b-421f-8ce7-457fb5de5a56",
   "metadata": {},
   "outputs": [
    {
     "ename": "",
     "evalue": "",
     "output_type": "error",
     "traceback": [
      "\u001b[1;31mFailed to start the Kernel. \n",
      "\u001b[1;31mSyntaxError: invalid syntax. \n",
      "\u001b[1;31mView Jupyter <a href='command:jupyter.viewOutput'>log</a> for further details."
     ]
    }
   ],
   "source": [
    "b = [1 for i in range(n)]\n",
    "y = Sol_y(L,b,n)\n",
    "u = Sol_u(U,y,n)\n",
    "print(\"La solution du système est u:\")\n",
    "print(u)"
   ]
  },
  {
   "cell_type": "markdown",
   "id": "732e9d9e-0f72-4eb3-b6a5-cf3c732d70ef",
   "metadata": {},
   "source": [
    "Une fonction qui fait la multiplication de deux matrices"
   ]
  },
  {
   "cell_type": "code",
   "execution_count": null,
   "id": "d4776782-d538-44e6-ac39-ac4ae5b418bc",
   "metadata": {},
   "outputs": [
    {
     "ename": "",
     "evalue": "",
     "output_type": "error",
     "traceback": [
      "\u001b[1;31mFailed to start the Kernel. \n",
      "\u001b[1;31mSyntaxError: invalid syntax. \n",
      "\u001b[1;31mView Jupyter <a href='command:jupyter.viewOutput'>log</a> for further details."
     ]
    }
   ],
   "source": [
    "def produitmat_mat(A : list[list[float]], B : list[list[float]],n : int)-> list[list[int]] :\n",
    "    C = [[0 for k in range(n)]for k in range(n)]\n",
    "    for i in range(n):\n",
    "        for j in range(n):\n",
    "            for k in range(n):\n",
    "                C[i][j] += A[i][k]*B[k][j]\n",
    "    return C\n"
   ]
  },
  {
   "cell_type": "code",
   "execution_count": null,
   "id": "ba8f1059-047e-4f6b-ba0d-b3302dea384a",
   "metadata": {},
   "outputs": [
    {
     "ename": "",
     "evalue": "",
     "output_type": "error",
     "traceback": [
      "\u001b[1;31mFailed to start the Kernel. \n",
      "\u001b[1;31mSyntaxError: invalid syntax. \n",
      "\u001b[1;31mView Jupyter <a href='command:jupyter.viewOutput'>log</a> for further details."
     ]
    }
   ],
   "source": [
    "B = produitmat_mat(L,U,n)\n",
    "print(\"Matrice B:\")\n",
    "afficher_Mat(B)"
   ]
  },
  {
   "cell_type": "markdown",
   "id": "0de8af75-7e51-4b55-a654-6c11ee8edb94",
   "metadata": {},
   "source": [
    "Une fonction qui fait la multiplication d'une matrice et d'un vecteur"
   ]
  },
  {
   "cell_type": "code",
   "execution_count": null,
   "id": "6be01280-712d-493b-a8fb-7e961036c2c9",
   "metadata": {},
   "outputs": [
    {
     "ename": "",
     "evalue": "",
     "output_type": "error",
     "traceback": [
      "\u001b[1;31mFailed to start the Kernel. \n",
      "\u001b[1;31mSyntaxError: invalid syntax. \n",
      "\u001b[1;31mView Jupyter <a href='command:jupyter.viewOutput'>log</a> for further details."
     ]
    }
   ],
   "source": [
    "def produitmat_vect(A : list[list[float]], u : list[float],n : int) -> list[float]:\n",
    "        b = [0 for i in range(n)]\n",
    "        for i in range(n):\n",
    "            for j in range(n):\n",
    "                b[i] += A[i][j]*u [j] \n",
    "        return b     "
   ]
  },
  {
   "cell_type": "code",
   "execution_count": null,
   "id": "432eeb71-0a45-402d-8f86-451036694f03",
   "metadata": {},
   "outputs": [
    {
     "ename": "",
     "evalue": "",
     "output_type": "error",
     "traceback": [
      "\u001b[1;31mFailed to start the Kernel. \n",
      "\u001b[1;31mSyntaxError: invalid syntax. \n",
      "\u001b[1;31mView Jupyter <a href='command:jupyter.viewOutput'>log</a> for further details."
     ]
    }
   ],
   "source": [
    "ax = produitmat_vect(A,u,n)\n",
    "print(ax)"
   ]
  },
  {
   "cell_type": "markdown",
   "id": "737718be-9ff7-451a-adc9-4e5c032f8f87",
   "metadata": {},
   "source": [
    "tests"
   ]
  },
  {
   "cell_type": "code",
   "execution_count": null,
   "id": "cc610b57-247a-4ec8-a4cf-a15942acac81",
   "metadata": {},
   "outputs": [
    {
     "ename": "",
     "evalue": "",
     "output_type": "error",
     "traceback": [
      "\u001b[1;31mFailed to start the Kernel. \n",
      "\u001b[1;31mSyntaxError: invalid syntax. \n",
      "\u001b[1;31mView Jupyter <a href='command:jupyter.viewOutput'>log</a> for further details."
     ]
    }
   ],
   "source": [
    "def Test_matrice(a:list[list[float]],b: list[list[float]],n:int):\n",
    "    for i in range(n):\n",
    "        for j in range(n):\n",
    "            if(math.floor(a[i][j] - b[i][j])==0):\n",
    "                return True\n",
    "            else:\n",
    "                return False\n",
    "\n",
    "def Test_vect(a : list[float],b : list[float],n:int):\n",
    "    for i in range(n):\n",
    "        if( math.floor(abs(a[i] - b[i]))== 0):\n",
    "            return True\n",
    "        else:\n",
    "            return False"
   ]
  },
  {
   "cell_type": "code",
   "execution_count": null,
   "id": "3778a806-6a59-433f-b650-b1a6803ab670",
   "metadata": {},
   "outputs": [
    {
     "ename": "",
     "evalue": "",
     "output_type": "error",
     "traceback": [
      "\u001b[1;31mFailed to start the Kernel. \n",
      "\u001b[1;31mSyntaxError: invalid syntax. \n",
      "\u001b[1;31mView Jupyter <a href='command:jupyter.viewOutput'>log</a> for further details."
     ]
    }
   ],
   "source": [
    "assert Test_matrice(A,B,8) == True\n",
    "assert Test_vect(ax,b,8) == True"
   ]
  },
  {
   "cell_type": "markdown",
   "id": "1173c98a-423e-4e67-8b7a-720f160d2055",
   "metadata": {},
   "source": [
    "Mesure du temps de l'execution"
   ]
  },
  {
   "cell_type": "code",
   "execution_count": null,
   "id": "93c20ea0-f986-4970-94ba-038efe19d743",
   "metadata": {},
   "outputs": [
    {
     "ename": "",
     "evalue": "",
     "output_type": "error",
     "traceback": [
      "\u001b[1;31mFailed to start the Kernel. \n",
      "\u001b[1;31mSyntaxError: invalid syntax. \n",
      "\u001b[1;31mView Jupyter <a href='command:jupyter.viewOutput'>log</a> for further details."
     ]
    }
   ],
   "source": [
    "#mesure du temps de la fonction LU_decomposition\n",
    "nbrepet = 1\n",
    "fexp = \"{:7.3e}\"\n",
    "t_time = [] \n",
    "\n",
    "for repet in range(nbrepet): \n",
    "    t0 = time.perf_counter()\n",
    "    r = LU_decomposition(A,n,h)\n",
    "    t = time.perf_counter()\n",
    "    \n",
    "    t_time.append(t-t0)"
   ]
  },
  {
   "cell_type": "code",
   "execution_count": null,
   "id": "4028babe-d5e3-4d3b-8557-8e76f8dc54ce",
   "metadata": {},
   "outputs": [
    {
     "ename": "",
     "evalue": "",
     "output_type": "error",
     "traceback": [
      "\u001b[1;31mFailed to start the Kernel. \n",
      "\u001b[1;31mSyntaxError: invalid syntax. \n",
      "\u001b[1;31mView Jupyter <a href='command:jupyter.viewOutput'>log</a> for further details."
     ]
    }
   ],
   "source": [
    "#mesure du temps de la fonction Decomposition\n",
    "nbrepet = 1\n",
    "fexp = \"{:7.3e}\"\n",
    "t_time1 = [] \n",
    "\n",
    "for repet in range(nbrepet): \n",
    "    t0 = time.perf_counter()\n",
    "    r = LU_t_decomposition(A, n,h)\n",
    "    t = time.perf_counter()\n",
    "    \n",
    "    t_time1.append(t-t0)\n",
    "\n",
    "if (t_time[0]>t_time1[0]):\n",
    "    print(\"La fonction LU tridiagonalisable est plus rapide que LU\")"
   ]
  },
  {
   "cell_type": "markdown",
   "id": "7d759af8-527b-4003-876d-eb3e49d64e16",
   "metadata": {},
   "source": [
    "Tracées des complexités algorithmiques"
   ]
  },
  {
   "cell_type": "code",
   "execution_count": null,
   "id": "94969e1f-9839-4f1d-9104-4645c28fbd39",
   "metadata": {},
   "outputs": [
    {
     "ename": "",
     "evalue": "",
     "output_type": "error",
     "traceback": [
      "\u001b[1;31mFailed to start the Kernel. \n",
      "\u001b[1;31mSyntaxError: invalid syntax. \n",
      "\u001b[1;31mView Jupyter <a href='command:jupyter.viewOutput'>log</a> for further details."
     ]
    }
   ],
   "source": [
    "\n",
    "#Tracé de la complexité de lU decomposition \n",
    "fig, ax = plt.subplots()\n",
    "ax.set_title(\"La complexité de LU decomposition\")\n",
    "\n",
    "n = [2**i for i in range(1,8)]  # les premieres puissances de 2  \n",
    "ax.plot(n, np.power(n, 3), label=\"$n^3$\")\n",
    "label_x = [str(val) for val in n]\n",
    "ax.set_xticks(n, label_x)\n",
    "ax.set_ylim(1.0, np.power(2,14))\n",
    "ax.legend(loc=\"upper right\")\n"
   ]
  },
  {
   "cell_type": "code",
   "execution_count": null,
   "id": "9c1ed908-51cd-4c31-b73e-d242f317890b",
   "metadata": {},
   "outputs": [
    {
     "ename": "",
     "evalue": "",
     "output_type": "error",
     "traceback": [
      "\u001b[1;31mFailed to start the Kernel. \n",
      "\u001b[1;31mSyntaxError: invalid syntax. \n",
      "\u001b[1;31mView Jupyter <a href='command:jupyter.viewOutput'>log</a> for further details."
     ]
    }
   ],
   "source": [
    "#Tracé de la complexité de lU decomposition avec A matrice tridiagonale\n",
    "fig, ax = plt.subplots()\n",
    "ax.set_title(\"La complexité de LU decomposition avec A matrice tridiagonale\")\n",
    "\n",
    "n = [2**i for i in range(1,8)]  # les premieres puissances de 2  \n",
    "ax.plot(n, n , label=\"n\")\n",
    "label_x = [str(val) for val in n]\n",
    "ax.set_xticks(n, label_x)\n",
    "ax.legend(loc=\"upper right\")"
   ]
  }
 ],
 "metadata": {
  "kernelspec": {
   "display_name": "monPython",
   "language": "python",
   "name": "python3"
  },
  "language_info": {
   "codemirror_mode": {
    "name": "ipython",
    "version": 3
   },
   "file_extension": ".py",
   "mimetype": "text/x-python",
   "name": "python",
   "nbconvert_exporter": "python",
   "pygments_lexer": "ipython3",
   "version": "3.9.13"
  },
  "vscode": {
   "interpreter": {
    "hash": "337a4d4af5c8f630e39aeb38dc760a85dda17aefe104aaeb5c30d8fb1c6901fc"
   }
  }
 },
 "nbformat": 4,
 "nbformat_minor": 5
}
